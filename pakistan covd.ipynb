{
 "cells": [
  {
   "cell_type": "markdown",
   "metadata": {},
   "source": [
    "1. IMPORTING NEEDED PACKAGES"
   ]
  },
  {
   "cell_type": "code",
   "execution_count": 362,
   "metadata": {},
   "outputs": [],
   "source": [
    "import pandas as pd\n",
    "from matplotlib import pyplot as plt\n",
    "import seaborn as sns"
   ]
  },
  {
   "cell_type": "code",
   "execution_count": 363,
   "metadata": {},
   "outputs": [
    {
     "data": {
      "text/html": [
       "<div>\n",
       "<style scoped>\n",
       "    .dataframe tbody tr th:only-of-type {\n",
       "        vertical-align: middle;\n",
       "    }\n",
       "\n",
       "    .dataframe tbody tr th {\n",
       "        vertical-align: top;\n",
       "    }\n",
       "\n",
       "    .dataframe thead th {\n",
       "        text-align: right;\n",
       "    }\n",
       "</style>\n",
       "<table border=\"1\" class=\"dataframe\">\n",
       "  <thead>\n",
       "    <tr style=\"text-align: right;\">\n",
       "      <th></th>\n",
       "      <th>date</th>\n",
       "      <th>confirmed_cases</th>\n",
       "      <th>deaths</th>\n",
       "      <th>tests_performed</th>\n",
       "    </tr>\n",
       "  </thead>\n",
       "  <tbody>\n",
       "    <tr>\n",
       "      <th>0</th>\n",
       "      <td>2020-04-01</td>\n",
       "      <td>178</td>\n",
       "      <td>5</td>\n",
       "      <td>1164</td>\n",
       "    </tr>\n",
       "    <tr>\n",
       "      <th>1</th>\n",
       "      <td>2020-04-02</td>\n",
       "      <td>252</td>\n",
       "      <td>3</td>\n",
       "      <td>1538</td>\n",
       "    </tr>\n",
       "    <tr>\n",
       "      <th>2</th>\n",
       "      <td>2020-04-03</td>\n",
       "      <td>161</td>\n",
       "      <td>5</td>\n",
       "      <td>2353</td>\n",
       "    </tr>\n",
       "    <tr>\n",
       "      <th>3</th>\n",
       "      <td>2020-04-04</td>\n",
       "      <td>258</td>\n",
       "      <td>5</td>\n",
       "      <td>3428</td>\n",
       "    </tr>\n",
       "    <tr>\n",
       "      <th>4</th>\n",
       "      <td>2020-04-05</td>\n",
       "      <td>172</td>\n",
       "      <td>5</td>\n",
       "      <td>1978</td>\n",
       "    </tr>\n",
       "  </tbody>\n",
       "</table>\n",
       "</div>"
      ],
      "text/plain": [
       "         date  confirmed_cases  deaths  tests_performed\n",
       "0  2020-04-01              178       5             1164\n",
       "1  2020-04-02              252       3             1538\n",
       "2  2020-04-03              161       5             2353\n",
       "3  2020-04-04              258       5             3428\n",
       "4  2020-04-05              172       5             1978"
      ]
     },
     "execution_count": 363,
     "metadata": {},
     "output_type": "execute_result"
    }
   ],
   "source": [
    "df = pd.read_csv(\"Pakistan-Covid-19_DataSet.csv\")\n",
    "df.head(5)"
   ]
  },
  {
   "cell_type": "code",
   "execution_count": 364,
   "metadata": {},
   "outputs": [
    {
     "name": "stdout",
     "output_type": "stream",
     "text": [
      "<class 'pandas.core.frame.DataFrame'>\n",
      "RangeIndex: 653 entries, 0 to 652\n",
      "Data columns (total 4 columns):\n",
      " #   Column           Non-Null Count  Dtype \n",
      "---  ------           --------------  ----- \n",
      " 0   date             653 non-null    object\n",
      " 1   confirmed_cases  653 non-null    int64 \n",
      " 2   deaths           653 non-null    int64 \n",
      " 3   tests_performed  653 non-null    int64 \n",
      "dtypes: int64(3), object(1)\n",
      "memory usage: 17.9+ KB\n"
     ]
    }
   ],
   "source": [
    "df.info()"
   ]
  },
  {
   "cell_type": "code",
   "execution_count": 365,
   "metadata": {},
   "outputs": [
    {
     "data": {
      "text/html": [
       "<div>\n",
       "<style scoped>\n",
       "    .dataframe tbody tr th:only-of-type {\n",
       "        vertical-align: middle;\n",
       "    }\n",
       "\n",
       "    .dataframe tbody tr th {\n",
       "        vertical-align: top;\n",
       "    }\n",
       "\n",
       "    .dataframe thead th {\n",
       "        text-align: right;\n",
       "    }\n",
       "</style>\n",
       "<table border=\"1\" class=\"dataframe\">\n",
       "  <thead>\n",
       "    <tr style=\"text-align: right;\">\n",
       "      <th></th>\n",
       "      <th>date</th>\n",
       "      <th>confirmed_cases</th>\n",
       "      <th>deaths</th>\n",
       "      <th>tests_performed</th>\n",
       "    </tr>\n",
       "  </thead>\n",
       "  <tbody>\n",
       "    <tr>\n",
       "      <th>286</th>\n",
       "      <td>2021-01-12</td>\n",
       "      <td>2123</td>\n",
       "      <td>55</td>\n",
       "      <td>39450</td>\n",
       "    </tr>\n",
       "    <tr>\n",
       "      <th>591</th>\n",
       "      <td>2021-11-13</td>\n",
       "      <td>263</td>\n",
       "      <td>11</td>\n",
       "      <td>33767</td>\n",
       "    </tr>\n",
       "    <tr>\n",
       "      <th>387</th>\n",
       "      <td>2021-04-23</td>\n",
       "      <td>5908</td>\n",
       "      <td>157</td>\n",
       "      <td>52402</td>\n",
       "    </tr>\n",
       "    <tr>\n",
       "      <th>504</th>\n",
       "      <td>2021-08-18</td>\n",
       "      <td>4373</td>\n",
       "      <td>74</td>\n",
       "      <td>55634</td>\n",
       "    </tr>\n",
       "    <tr>\n",
       "      <th>602</th>\n",
       "      <td>2021-11-24</td>\n",
       "      <td>363</td>\n",
       "      <td>13</td>\n",
       "      <td>41240</td>\n",
       "    </tr>\n",
       "  </tbody>\n",
       "</table>\n",
       "</div>"
      ],
      "text/plain": [
       "           date  confirmed_cases  deaths  tests_performed\n",
       "286  2021-01-12             2123      55            39450\n",
       "591  2021-11-13              263      11            33767\n",
       "387  2021-04-23             5908     157            52402\n",
       "504  2021-08-18             4373      74            55634\n",
       "602  2021-11-24              363      13            41240"
      ]
     },
     "execution_count": 365,
     "metadata": {},
     "output_type": "execute_result"
    }
   ],
   "source": [
    "df.sample(5)"
   ]
  },
  {
   "cell_type": "markdown",
   "metadata": {},
   "source": [
    "SEEING THAT THE SAMPLE CONTAINS DATA FROM DIFFERENT YEARS, \n",
    "LETS FIND OUT HOW MANY YEARS OF DATA WE HAVE HERE"
   ]
  },
  {
   "cell_type": "code",
   "execution_count": 366,
   "metadata": {},
   "outputs": [
    {
     "name": "stdout",
     "output_type": "stream",
     "text": [
      "############### \n",
      " This DataSet Spans  3 Years \n",
      " ###############\n",
      "\n",
      " The years:  [2020 2021 2022]\n",
      "\n",
      " Months in the year 2020 with data available\n"
     ]
    }
   ],
   "source": [
    "df['year'] = pd.DatetimeIndex(df['date']).year # Creating a year column\n",
    "\n",
    "\n",
    "df['date'] = pd.to_datetime(df['date'])\n",
    "df['month'] = df['date'].dt.strftime(\"%b\")\n",
    "\n",
    "\n",
    "# df.sample()\n",
    "list = (df['year'].unique())\n",
    "\n",
    "print(\"#\"*15,  '\\n' , \"This DataSet Spans \", len(list), \"Years \\n\", '#'*15)\n",
    "print('\\n The years: ', list)\n",
    "\n",
    "\n",
    "# year2020 = df[df['year']==2020]\n",
    "\n",
    "# listOfData = year2020['date'].unique()\n",
    "\n",
    "# print(len(year2020))\n",
    "\n",
    "print('\\n Months in the year 2020 with data available', ) "
   ]
  },
  {
   "cell_type": "code",
   "execution_count": 367,
   "metadata": {},
   "outputs": [
    {
     "data": {
      "text/html": [
       "<div>\n",
       "<style scoped>\n",
       "    .dataframe tbody tr th:only-of-type {\n",
       "        vertical-align: middle;\n",
       "    }\n",
       "\n",
       "    .dataframe tbody tr th {\n",
       "        vertical-align: top;\n",
       "    }\n",
       "\n",
       "    .dataframe thead th {\n",
       "        text-align: right;\n",
       "    }\n",
       "</style>\n",
       "<table border=\"1\" class=\"dataframe\">\n",
       "  <thead>\n",
       "    <tr style=\"text-align: right;\">\n",
       "      <th></th>\n",
       "      <th>date</th>\n",
       "      <th>confirmed_cases</th>\n",
       "      <th>deaths</th>\n",
       "      <th>tests_performed</th>\n",
       "      <th>year</th>\n",
       "      <th>month</th>\n",
       "      <th>survivors</th>\n",
       "    </tr>\n",
       "  </thead>\n",
       "  <tbody>\n",
       "    <tr>\n",
       "      <th>0</th>\n",
       "      <td>2020-04-01</td>\n",
       "      <td>178</td>\n",
       "      <td>5</td>\n",
       "      <td>1164</td>\n",
       "      <td>2020</td>\n",
       "      <td>Apr</td>\n",
       "      <td>173</td>\n",
       "    </tr>\n",
       "    <tr>\n",
       "      <th>1</th>\n",
       "      <td>2020-04-02</td>\n",
       "      <td>252</td>\n",
       "      <td>3</td>\n",
       "      <td>1538</td>\n",
       "      <td>2020</td>\n",
       "      <td>Apr</td>\n",
       "      <td>249</td>\n",
       "    </tr>\n",
       "    <tr>\n",
       "      <th>2</th>\n",
       "      <td>2020-04-03</td>\n",
       "      <td>161</td>\n",
       "      <td>5</td>\n",
       "      <td>2353</td>\n",
       "      <td>2020</td>\n",
       "      <td>Apr</td>\n",
       "      <td>156</td>\n",
       "    </tr>\n",
       "    <tr>\n",
       "      <th>3</th>\n",
       "      <td>2020-04-04</td>\n",
       "      <td>258</td>\n",
       "      <td>5</td>\n",
       "      <td>3428</td>\n",
       "      <td>2020</td>\n",
       "      <td>Apr</td>\n",
       "      <td>253</td>\n",
       "    </tr>\n",
       "    <tr>\n",
       "      <th>4</th>\n",
       "      <td>2020-04-05</td>\n",
       "      <td>172</td>\n",
       "      <td>5</td>\n",
       "      <td>1978</td>\n",
       "      <td>2020</td>\n",
       "      <td>Apr</td>\n",
       "      <td>167</td>\n",
       "    </tr>\n",
       "    <tr>\n",
       "      <th>5</th>\n",
       "      <td>2020-04-06</td>\n",
       "      <td>397</td>\n",
       "      <td>4</td>\n",
       "      <td>1933</td>\n",
       "      <td>2020</td>\n",
       "      <td>Apr</td>\n",
       "      <td>393</td>\n",
       "    </tr>\n",
       "    <tr>\n",
       "      <th>6</th>\n",
       "      <td>2020-04-07</td>\n",
       "      <td>577</td>\n",
       "      <td>4</td>\n",
       "      <td>3088</td>\n",
       "      <td>2020</td>\n",
       "      <td>Apr</td>\n",
       "      <td>573</td>\n",
       "    </tr>\n",
       "    <tr>\n",
       "      <th>7</th>\n",
       "      <td>2020-04-08</td>\n",
       "      <td>208</td>\n",
       "      <td>5</td>\n",
       "      <td>3076</td>\n",
       "      <td>2020</td>\n",
       "      <td>Apr</td>\n",
       "      <td>203</td>\n",
       "    </tr>\n",
       "    <tr>\n",
       "      <th>8</th>\n",
       "      <td>2020-04-09</td>\n",
       "      <td>248</td>\n",
       "      <td>5</td>\n",
       "      <td>2737</td>\n",
       "      <td>2020</td>\n",
       "      <td>Apr</td>\n",
       "      <td>243</td>\n",
       "    </tr>\n",
       "    <tr>\n",
       "      <th>9</th>\n",
       "      <td>2020-04-10</td>\n",
       "      <td>284</td>\n",
       "      <td>5</td>\n",
       "      <td>2478</td>\n",
       "      <td>2020</td>\n",
       "      <td>Apr</td>\n",
       "      <td>279</td>\n",
       "    </tr>\n",
       "  </tbody>\n",
       "</table>\n",
       "</div>"
      ],
      "text/plain": [
       "        date  confirmed_cases  deaths  tests_performed  year month  survivors\n",
       "0 2020-04-01              178       5             1164  2020   Apr        173\n",
       "1 2020-04-02              252       3             1538  2020   Apr        249\n",
       "2 2020-04-03              161       5             2353  2020   Apr        156\n",
       "3 2020-04-04              258       5             3428  2020   Apr        253\n",
       "4 2020-04-05              172       5             1978  2020   Apr        167\n",
       "5 2020-04-06              397       4             1933  2020   Apr        393\n",
       "6 2020-04-07              577       4             3088  2020   Apr        573\n",
       "7 2020-04-08              208       5             3076  2020   Apr        203\n",
       "8 2020-04-09              248       5             2737  2020   Apr        243\n",
       "9 2020-04-10              284       5             2478  2020   Apr        279"
      ]
     },
     "execution_count": 367,
     "metadata": {},
     "output_type": "execute_result"
    }
   ],
   "source": [
    "df['survivors'] = df['confirmed_cases'] - df['deaths']\n",
    "\n",
    "df.head(10)"
   ]
  },
  {
   "cell_type": "markdown",
   "metadata": {},
   "source": [
    "NOW ONTOWARD ANALYSIS....\n",
    "\n",
    "QUESTIONS:\n",
    "1. What proportion of infected people die?\n",
    "2. What proportion of infected people live?\n",
    "3. Does more testing equal more confirmed cases?\n",
    "4. What is trend of testing, infection rates and deaths??\n",
    "\n",
    "LET US SEE WHAT THE DATA SAYS"
   ]
  },
  {
   "cell_type": "markdown",
   "metadata": {},
   "source": [
    "1. ANALYSIS FOR THE YEAR 2020"
   ]
  },
  {
   "cell_type": "code",
   "execution_count": 368,
   "metadata": {},
   "outputs": [
    {
     "name": "stdout",
     "output_type": "stream",
     "text": [
      "# ---------------------------------------------------------------------- #\n",
      "Total number of confirmed cases in 2020 =  479951\n",
      "# ---------------------------------------------------------------------- #\n",
      "Four Hundred and Seventy Nine Thousand, Nine Hundred and Fifty One Confirmed Cases\n"
     ]
    }
   ],
   "source": [
    "print('#','-'*70, '#')\n",
    "print('Total number of confirmed cases in 2020 = ', df[df['year']==2020]['confirmed_cases'].sum())\n",
    "print('#','-'*70, '#')\n",
    "\n",
    "print('Four Hundred and Seventy Nine Thousand, Nine Hundred and Fifty One Confirmed Cases')"
   ]
  },
  {
   "cell_type": "code",
   "execution_count": 369,
   "metadata": {},
   "outputs": [
    {
     "name": "stdout",
     "output_type": "stream",
     "text": [
      "# ---------------------------------------------------------------------- #\n",
      "Total number of tests carried out in 2020 =  6678264\n",
      "# ---------------------------------------------------------------------- #\n"
     ]
    }
   ],
   "source": [
    "print('#','-'*70, '#')\n",
    "print('Total number of tests carried out in 2020 = ', df[df['year']==2020]['tests_performed'].sum())\n",
    "print('#','-'*70, '#')"
   ]
  },
  {
   "cell_type": "code",
   "execution_count": 370,
   "metadata": {},
   "outputs": [
    {
     "name": "stdout",
     "output_type": "stream",
     "text": [
      "# ---------------------------------------------------------------------- #\n",
      "Total number of deaths in 2020 =  9881\n",
      "# ---------------------------------------------------------------------- #\n"
     ]
    }
   ],
   "source": [
    "print('#','-'*70, '#')\n",
    "print('Total number of deaths in 2020 = ', df[df['year']==2020]['deaths'].sum())\n",
    "print('#','-'*70, '#')"
   ]
  },
  {
   "cell_type": "code",
   "execution_count": 371,
   "metadata": {},
   "outputs": [
    {
     "name": "stdout",
     "output_type": "stream",
     "text": [
      "\n",
      " There is no relationship in the patterns between the tests performed and the confirmed cases, so adequate tests were performed on citizens during the period \n",
      " Also this indicates that infection rates were very low compared the rate of COVID-19 Testing\n"
     ]
    },
    {
     "data": {
      "image/png": "[encoded data removed]",
      "text/plain": [
       "<Figure size 432x288 with 1 Axes>"
      ]
     },
     "metadata": {
      "needs_background": "light"
     },
     "output_type": "display_data"
    }
   ],
   "source": [
    "# AVERAGE NUMBER OF DEATHS IN THE YEAR 2020,\n",
    "\n",
    "df[df['year']==2020].groupby('month')['deaths'].sum()\n",
    "\n",
    "df[df['year']==2020].groupby('month')[['confirmed_cases', 'tests_performed']].sum().plot(kind='line')\n",
    "plt.xlabel('Months in the year 2020')\n",
    "plt.suptitle('Tests versus Cases in 2020')\n",
    "\n",
    "print('\\n', 'There is no relationship in the patterns between the tests performed and the confirmed cases,' \n",
    " ' so adequate tests were performed on citizens during the period \\n Also this indicates that infection rates were very low compared the rate of COVID-19 Testing')\n"
   ]
  },
  {
   "cell_type": "code",
   "execution_count": 372,
   "metadata": {},
   "outputs": [
    {
     "data": {
      "text/plain": [
       "Text(0, 0.5, 'Month')"
      ]
     },
     "execution_count": 372,
     "metadata": {},
     "output_type": "execute_result"
    },
    {
     "data": {
      "image/png": "[encoded data removed]",
      "text/plain": [
       "<Figure size 432x288 with 1 Axes>"
      ]
     },
     "metadata": {
      "needs_background": "light"
     },
     "output_type": "display_data"
    }
   ],
   "source": [
    "df[df['year']==2020].groupby('month')['deaths'].sum().plot(kind='barh')\n",
    "plt.suptitle('COVID Deaths in the Year 2020')\n",
    "plt.xlabel('Number of Deaths')\n",
    "plt.ylabel('Month')"
   ]
  },
  {
   "cell_type": "markdown",
   "metadata": {},
   "source": [
    "2020-DEATHS: The number of deaths peaked in June, went down and peaked again at the end of the year."
   ]
  },
  {
   "cell_type": "code",
   "execution_count": 373,
   "metadata": {},
   "outputs": [
    {
     "name": "stdout",
     "output_type": "stream",
     "text": [
      "In the year 2020 there was a very high rate of survival of COVID-19\n"
     ]
    },
    {
     "data": {
      "text/plain": [
       "Text(0.5, 0.98, 'Survival Rate of COVID Patients in the year 2020')"
      ]
     },
     "execution_count": 373,
     "metadata": {},
     "output_type": "execute_result"
    },
    {
     "data": {
      "image/png": "[encoded data removed]",
      "text/plain": [
       "<Figure size 432x288 with 1 Axes>"
      ]
     },
     "metadata": {
      "needs_background": "light"
     },
     "output_type": "display_data"
    }
   ],
   "source": [
    "df[df['year']==2020].groupby('month')[['confirmed_cases', 'survivors']].sum().plot(kind='bar')\n",
    "\n",
    "print('In the year 2020 there was a very high rate of survival of COVID-19')\n",
    "\n",
    "plt.suptitle('Survival Rate of COVID Patients in the year 2020')\n"
   ]
  },
  {
   "cell_type": "markdown",
   "metadata": {},
   "source": [
    "##################################################################################"
   ]
  },
  {
   "cell_type": "markdown",
   "metadata": {},
   "source": [
    "ANALYSIS FOR THE YEAR 2021"
   ]
  },
  {
   "cell_type": "markdown",
   "metadata": {},
   "source": [
    "#################################################################################3"
   ]
  },
  {
   "cell_type": "code",
   "execution_count": 374,
   "metadata": {},
   "outputs": [
    {
     "name": "stdout",
     "output_type": "stream",
     "text": [
      "# ---------------------------------------------------------------------- #\n",
      "Total number of confirmed cases in 2021 =  813781\n",
      "# ---------------------------------------------------------------------- #\n"
     ]
    }
   ],
   "source": [
    "print('#','-'*70, '#')\n",
    "print('Total number of confirmed cases in 2021 = ', df[df['year']==2021]['confirmed_cases'].sum())\n",
    "print('#','-'*70, '#')"
   ]
  },
  {
   "cell_type": "code",
   "execution_count": 375,
   "metadata": {},
   "outputs": [
    {
     "name": "stdout",
     "output_type": "stream",
     "text": [
      "# ---------------------------------------------------------------------- #\n",
      "Total number of tests carried out in 2021 =  16656786\n",
      "# ---------------------------------------------------------------------- #\n"
     ]
    }
   ],
   "source": [
    "print('#','-'*70, '#')\n",
    "print('Total number of tests carried out in 2021 = ', df[df['year']==2021]['tests_performed'].sum())\n",
    "print('#','-'*70, '#')"
   ]
  },
  {
   "cell_type": "code",
   "execution_count": 376,
   "metadata": {},
   "outputs": [
    {
     "name": "stdout",
     "output_type": "stream",
     "text": [
      "# ---------------------------------------------------------------------- #\n",
      "Total number of deaths in 2021 =  18766\n",
      "# ---------------------------------------------------------------------- #\n"
     ]
    }
   ],
   "source": [
    "print('#','-'*70, '#')\n",
    "print('Total number of deaths in 2021 = ', df[df['year']==2021]['deaths'].sum())\n",
    "print('#','-'*70, '#')"
   ]
  },
  {
   "cell_type": "code",
   "execution_count": 377,
   "metadata": {},
   "outputs": [
    {
     "name": "stdout",
     "output_type": "stream",
     "text": [
      "\n",
      " No relationship between the tests performed and the confirmed cases\n"
     ]
    },
    {
     "data": {
      "image/png": "[encoded data removed]",
      "text/plain": [
       "<Figure size 432x288 with 1 Axes>"
      ]
     },
     "metadata": {
      "needs_background": "light"
     },
     "output_type": "display_data"
    }
   ],
   "source": [
    "# VISUALIZING THE RATE OF INFECTION OF COVID\n",
    "\n",
    "df[df['year']==2021].groupby('month')[['confirmed_cases','tests_performed']].sum().plot()\n",
    "plt.xlabel('MONTHS IN THE YEAR 2021')\n",
    "plt.suptitle('Tests versus Cases in 2021')\n",
    "\n",
    "print('\\n No relationship between the tests performed and the confirmed cases')"
   ]
  },
  {
   "cell_type": "code",
   "execution_count": 378,
   "metadata": {},
   "outputs": [
    {
     "name": "stdout",
     "output_type": "stream",
     "text": [
      "The highest number of Deaths was recorded in the Month of April, peaking at about 3400\n"
     ]
    },
    {
     "data": {
      "image/png": "[encoded data removed]",
      "text/plain": [
       "<Figure size 432x288 with 1 Axes>"
      ]
     },
     "metadata": {
      "needs_background": "light"
     },
     "output_type": "display_data"
    }
   ],
   "source": [
    "df[df['year']==2021].groupby('month')['deaths'].sum().plot(kind='barh')\n",
    "plt.xlabel('Number of Deaths')\n",
    "plt.ylabel('Months in the year 2021')\n",
    "\n",
    "print('The highest number of Deaths was recorded in the Month of April, peaking at about 3400')"
   ]
  },
  {
   "cell_type": "code",
   "execution_count": 379,
   "metadata": {},
   "outputs": [
    {
     "data": {
      "text/plain": [
       "Text(0.5, 0.98, 'Survival Rate of COVID Patients in the year 2021')"
      ]
     },
     "execution_count": 379,
     "metadata": {},
     "output_type": "execute_result"
    },
    {
     "data": {
      "image/png": "[encoded data removed]",
      "text/plain": [
       "<Figure size 432x288 with 1 Axes>"
      ]
     },
     "metadata": {
      "needs_background": "light"
     },
     "output_type": "display_data"
    }
   ],
   "source": [
    "# Confirmed Cases Against Survivors\n",
    "\n",
    "df[df['year']==2021].groupby('month')[['confirmed_cases','survivors']].sum().plot(kind='bar')\n",
    "\n",
    "plt.suptitle('Survival Rate of COVID Patients in the year 2021')"
   ]
  },
  {
   "cell_type": "markdown",
   "metadata": {},
   "source": [
    "#################################################################################3"
   ]
  },
  {
   "cell_type": "markdown",
   "metadata": {},
   "source": [
    "ANALYSIS FOR THE YEAR 2022"
   ]
  },
  {
   "cell_type": "markdown",
   "metadata": {},
   "source": [
    "######################################################################################"
   ]
  },
  {
   "cell_type": "code",
   "execution_count": 380,
   "metadata": {},
   "outputs": [
    {
     "name": "stdout",
     "output_type": "stream",
     "text": [
      "# ---------------------------------------------------------------------- #\n",
      "Total number of confirmed cases in 2022 =  19901\n",
      "# ---------------------------------------------------------------------- #\n"
     ]
    }
   ],
   "source": [
    "print('#','-'*70, '#')\n",
    "print('Total number of confirmed cases in 2022 = ', df[df['year']==2022]['confirmed_cases'].sum())\n",
    "print('#','-'*70, '#')"
   ]
  },
  {
   "cell_type": "code",
   "execution_count": 381,
   "metadata": {},
   "outputs": [
    {
     "name": "stdout",
     "output_type": "stream",
     "text": [
      "# ---------------------------------------------------------------------- #\n",
      "Total number of tests carried out in 2022 =  609405\n",
      "# ---------------------------------------------------------------------- #\n"
     ]
    }
   ],
   "source": [
    "print('#','-'*70, '#')\n",
    "print('Total number of tests carried out in 2022 = ', df[df['year']==2022]['tests_performed'].sum())\n",
    "print('#','-'*70, '#')"
   ]
  },
  {
   "cell_type": "code",
   "execution_count": 382,
   "metadata": {},
   "outputs": [
    {
     "name": "stdout",
     "output_type": "stream",
     "text": [
      "# ---------------------------------------------------------------------- #\n",
      "Total number of deaths in 2022 =  67\n",
      "# ---------------------------------------------------------------------- #\n"
     ]
    }
   ],
   "source": [
    "print('#','-'*70, '#')\n",
    "print('Total number of deaths in 2022 = ', df[df['year']==2022]['deaths'].sum())\n",
    "print('#','-'*70, '#')"
   ]
  },
  {
   "cell_type": "code",
   "execution_count": 384,
   "metadata": {},
   "outputs": [
    {
     "name": "stdout",
     "output_type": "stream",
     "text": [
      "\n",
      " No relationship between the tests performed and the confirmed cases\n"
     ]
    },
    {
     "data": {
      "image/png": "[encoded data removed]",
      "text/plain": [
       "<Figure size 432x288 with 1 Axes>"
      ]
     },
     "metadata": {
      "needs_background": "light"
     },
     "output_type": "display_data"
    }
   ],
   "source": [
    "# VISUALIZING THE RATE OF INFECTION RATE OF COVID\n",
    "\n",
    "df[df['year']==2022].groupby('date')[['confirmed_cases','tests_performed']].mean().plot()\n",
    "plt.xlabel('DAYS IN THE YEAR 2022')\n",
    "plt.suptitle('Tests versus Cases in 2022')\n",
    "\n",
    "print('\\n No relationship between the tests performed and the confirmed cases')"
   ]
  },
  {
   "cell_type": "code",
   "execution_count": 354,
   "metadata": {},
   "outputs": [
    {
     "name": "stdout",
     "output_type": "stream",
     "text": [
      "The highest number of Deaths was recorded in the Month of April, peaking at about 3400\n"
     ]
    },
    {
     "data": {
      "image/png": "[encoded data removed]",
      "text/plain": [
       "<Figure size 432x288 with 1 Axes>"
      ]
     },
     "metadata": {
      "needs_background": "light"
     },
     "output_type": "display_data"
    }
   ],
   "source": [
    "df[df['year']==2022]['deaths'].plot(kind='barh')\n",
    "plt.xlabel('Number of Deaths')\n",
    "plt.ylabel('Months in the year 2021')\n",
    "\n",
    "print('The highest number of Deaths was recorded in the Month of April, peaking at about 3400')"
   ]
  },
  {
   "cell_type": "code",
   "execution_count": 355,
   "metadata": {},
   "outputs": [
    {
     "data": {
      "text/plain": [
       "Text(0.5, 0.98, 'Survival Rate of COVID Patients in the year 2021')"
      ]
     },
     "execution_count": 355,
     "metadata": {},
     "output_type": "execute_result"
    },
    {
     "data": {
      "image/png": "[encoded data removed]",
      "text/plain": [
       "<Figure size 432x288 with 1 Axes>"
      ]
     },
     "metadata": {
      "needs_background": "light"
     },
     "output_type": "display_data"
    }
   ],
   "source": [
    "# Confirmed Cases Against Survivors\n",
    "\n",
    "df[df['year']==2022].groupby('month')[['confirmed_cases','survivors']].plot(kind='bar')\n",
    "plt.xlabel('Dates in the year 2022')\n",
    "plt.suptitle('Survival Rate of COVID Patients in the year 2021')"
   ]
  },
  {
   "cell_type": "markdown",
   "metadata": {},
   "source": [
    "#######################################################################\n",
    "\n",
    "SUMMARY OF THE THREE YEARS\n",
    "\n",
    "#######################################################################"
   ]
  },
  {
   "cell_type": "code",
   "execution_count": 359,
   "metadata": {},
   "outputs": [
    {
     "data": {
      "image/png": "[encoded data removed]",
      "text/plain": [
       "<Figure size 864x432 with 1 Axes>"
      ]
     },
     "metadata": {
      "needs_background": "light"
     },
     "output_type": "display_data"
    }
   ],
   "source": [
    "plt.figure(figsize=(12, 6))\n",
    "sns.countplot(y='year', data=df, palette=\"rocket_r\")\n",
    "plt.title(\"Most Data Recorded by Year\")\n",
    "plt.ylabel(\"Year\")\n",
    "plt.xlabel(\"Count\")\n",
    "plt.show()"
   ]
  },
  {
   "cell_type": "code",
   "execution_count": null,
   "metadata": {},
   "outputs": [
    {
     "data": {
      "image/png": "[encoded data removed]",
      "text/plain": [
       "<Figure size 720x720 with 1 Axes>"
      ]
     },
     "metadata": {},
     "output_type": "display_data"
    }
   ],
   "source": [
    "plt.figure(figsize=(10,10))\n",
    "df.groupby('year')['deaths'].sum().plot(kind='pie')"
   ]
  },
  {
   "cell_type": "markdown",
   "metadata": {},
   "source": [
    "EXPLORATORY DATA ANALYSIS BY Chukwunonso Emmanuel Chukwumaeze."
   ]
  }
 ],
 "metadata": {
  "interpreter": {
   "hash": "776e7c35012c6450a385135f748ac2dd3972817eb3f814059e88cb2238e03f73"
  },
  "kernelspec": {
   "display_name": "Python 3.7.4 32-bit",
   "name": "python3"
  },
  "language_info": {
   "codemirror_mode": {
    "name": "ipython",
    "version": 3
   },
   "file_extension": ".py",
   "mimetype": "text/x-python",
   "name": "python",
   "nbconvert_exporter": "python",
   "pygments_lexer": "ipython3",
   "version": "3.7.4"
  },
  "orig_nbformat": 4
 },
 "nbformat": 4,
 "nbformat_minor": 2
}
